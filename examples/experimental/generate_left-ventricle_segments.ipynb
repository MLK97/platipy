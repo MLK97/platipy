{
 "cells": [
  {
   "cell_type": "markdown",
   "id": "dominant-czech",
   "metadata": {},
   "source": [
    "# Code for LV 17-segment model\n",
    "\n",
    "This notebook demonstrates how to use the geometric algorithm to generate auto-contours for the 17-segment LV myocardium model (AHA)."
   ]
  },
  {
   "cell_type": "code",
   "execution_count": null,
   "id": "derived-input",
   "metadata": {},
   "outputs": [],
   "source": [
    "from pathlib import Path\n",
    "\n",
    "import SimpleITK as sitk\n",
    "import numpy as np\n",
    "\n",
    "from platipy.imaging import ImageVisualiser\n",
    "from platipy.imaging.label.utils import get_com\n",
    "from platipy.imaging.utils.io import write_nrrd_structure_set\n",
    "from platipy.imaging.utils.ventricle import generate_left_ventricle_segments\n",
    "\n",
    "# this optiona setting changes the matplotlib backend - try \"inline\" if \"notebook\" doesn't work\n",
    "%matplotlib notebook"
   ]
  },
  {
   "cell_type": "code",
   "execution_count": null,
   "id": "accredited-detection",
   "metadata": {},
   "outputs": [],
   "source": [
    "# read in some data\n",
    "# the required structures are: LA, LV, RV, whole heart\n",
    "\n",
    "image = sitk.ReadImage(\"PATH TO PATIENT CT IMAGE\") # onyl used for visualisation\n",
    "\n",
    "contours = {}\n",
    "contours[\"LEFTVENTRICLE\"] = sitk.ReadImage(\"PATH TO LV SEGMENTATION FILE\")\n",
    "contours[\"LEFTATRIUM\"] = sitk.ReadImage(\"PATH TO LA SEGMENTATION FILE\")\n",
    "contours[\"RIGHTVENTRICLE\"] = sitk.ReadImage(\"PATH TO RV SEGMENTATION FILE\")\n",
    "contours[\"WHOLEHEART\"] = sitk.ReadImage(\"PATH TO WH SEGMENTATION FILE\")"
   ]
  },
  {
   "cell_type": "code",
   "execution_count": null,
   "id": "short-mercury",
   "metadata": {},
   "outputs": [],
   "source": [
    "# generate the LV segments\n",
    "# run `generate_left_ventricle_segments?` to get the docstring\n",
    "# this function returns a dictionary where the key is the segment ID (i.e. 1, 2, 3...)\n",
    "#   and the value is the segment auto-contour (as a SimpleITK.Image)\n",
    "\n",
    "lv_segments = generate_left_ventricle_segments(contours, verbose=True)"
   ]
  },
  {
   "cell_type": "code",
   "execution_count": null,
   "id": "liked-geology",
   "metadata": {},
   "outputs": [],
   "source": [
    "# generate a figure\n",
    "\n",
    "vis = ImageVisualiser(image, cut=get_com(contours[\"LEFTVENTRICLE\"]), figure_size_in=6)\n",
    "\n",
    "vis.add_contour(contours)\n",
    "vis.add_contour(lv_segments)\n",
    "\n",
    "vis.set_limits_from_label(contours[\"WHOLEHEART\"], expansion=20)\n",
    "\n",
    "fig = vis.show()"
   ]
  },
  {
   "cell_type": "code",
   "execution_count": null,
   "id": "married-equilibrium",
   "metadata": {},
   "outputs": [],
   "source": [
    "# optionally save a NRRD file containing all LV segments\n",
    "# this is useful for loading into Slicer (for example)\n",
    "\n",
    "write_nrrd_structure_set(lv_segments, f\"./LV_SEGMENTS.nrrd\", colormap=plt.cm.rainbow)"
   ]
  }
 ],
 "metadata": {
  "kernelspec": {
   "display_name": "Python 3",
   "language": "python",
   "name": "python3"
  },
  "language_info": {
   "codemirror_mode": {
    "name": "ipython",
    "version": 3
   },
   "file_extension": ".py",
   "mimetype": "text/x-python",
   "name": "python",
   "nbconvert_exporter": "python",
   "pygments_lexer": "ipython3",
   "version": "3.9.2"
  }
 },
 "nbformat": 4,
 "nbformat_minor": 5
}
